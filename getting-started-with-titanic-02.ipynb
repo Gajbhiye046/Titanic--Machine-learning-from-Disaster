{
 "cells": [
  {
   "cell_type": "code",
   "execution_count": 1,
   "id": "e9618e14",
   "metadata": {
    "_cell_guid": "b1076dfc-b9ad-4769-8c92-a6c4dae69d19",
    "_uuid": "8f2839f25d086af736a60e9eeb907d3b93b6e0e5",
    "execution": {
     "iopub.execute_input": "2021-08-05T06:22:40.405927Z",
     "iopub.status.busy": "2021-08-05T06:22:40.405224Z",
     "iopub.status.idle": "2021-08-05T06:22:40.412980Z",
     "shell.execute_reply": "2021-08-05T06:22:40.412156Z",
     "shell.execute_reply.started": "2021-08-05T06:09:09.427946Z"
    },
    "papermill": {
     "duration": 0.048605,
     "end_time": "2021-08-05T06:22:40.413150",
     "exception": false,
     "start_time": "2021-08-05T06:22:40.364545",
     "status": "completed"
    },
    "tags": []
   },
   "outputs": [
    {
     "name": "stdout",
     "output_type": "stream",
     "text": [
      "/kaggle/input/titanic/train.csv\n",
      "/kaggle/input/titanic/test.csv\n",
      "/kaggle/input/titanic/gender_submission.csv\n"
     ]
    }
   ],
   "source": [
    "# This Python 3 environment comes with many helpful analytics libraries installed\n",
    "# It is defined by the kaggle/python Docker image: https://github.com/kaggle/docker-python\n",
    "# For example, here's several helpful packages to load\n",
    "\n",
    "import numpy as np # linear algebra\n",
    "import pandas as pd # data processing, CSV file I/O (e.g. pd.read_csv)\n",
    "\n",
    "# Input data files are available in the read-only \"../input/\" directory\n",
    "# For example, running this (by clicking run or pressing Shift+Enter) will list all files under the input directory\n",
    "\n",
    "import os\n",
    "for dirname, _, filenames in os.walk('/kaggle/input'):\n",
    "    for filename in filenames:\n",
    "        print(os.path.join(dirname, filename))\n",
    "\n",
    "# You can write up to 20GB to the current directory (/kaggle/working/) that gets preserved as output when you create a version using \"Save & Run All\" \n",
    "# You can also write temporary files to /kaggle/temp/, but they won't be saved outside of the current session"
   ]
  },
  {
   "cell_type": "code",
   "execution_count": 2,
   "id": "c94b3811",
   "metadata": {
    "execution": {
     "iopub.execute_input": "2021-08-05T06:22:40.468841Z",
     "iopub.status.busy": "2021-08-05T06:22:40.468065Z",
     "iopub.status.idle": "2021-08-05T06:22:40.602750Z",
     "shell.execute_reply": "2021-08-05T06:22:40.601935Z",
     "shell.execute_reply.started": "2021-08-05T06:09:11.335432Z"
    },
    "papermill": {
     "duration": 0.163935,
     "end_time": "2021-08-05T06:22:40.602895",
     "exception": false,
     "start_time": "2021-08-05T06:22:40.438960",
     "status": "completed"
    },
    "tags": []
   },
   "outputs": [
    {
     "data": {
      "text/html": [
       "<div>\n",
       "<style scoped>\n",
       "    .dataframe tbody tr th:only-of-type {\n",
       "        vertical-align: middle;\n",
       "    }\n",
       "\n",
       "    .dataframe tbody tr th {\n",
       "        vertical-align: top;\n",
       "    }\n",
       "\n",
       "    .dataframe thead th {\n",
       "        text-align: right;\n",
       "    }\n",
       "</style>\n",
       "<table border=\"1\" class=\"dataframe\">\n",
       "  <thead>\n",
       "    <tr style=\"text-align: right;\">\n",
       "      <th></th>\n",
       "      <th>PassengerId</th>\n",
       "      <th>Survived</th>\n",
       "      <th>Pclass</th>\n",
       "      <th>Name</th>\n",
       "      <th>Sex</th>\n",
       "      <th>Age</th>\n",
       "      <th>SibSp</th>\n",
       "      <th>Parch</th>\n",
       "      <th>Ticket</th>\n",
       "      <th>Fare</th>\n",
       "      <th>Cabin</th>\n",
       "      <th>Embarked</th>\n",
       "    </tr>\n",
       "  </thead>\n",
       "  <tbody>\n",
       "    <tr>\n",
       "      <th>0</th>\n",
       "      <td>1</td>\n",
       "      <td>0</td>\n",
       "      <td>3</td>\n",
       "      <td>Braund, Mr. Owen Harris</td>\n",
       "      <td>male</td>\n",
       "      <td>22.0</td>\n",
       "      <td>1</td>\n",
       "      <td>0</td>\n",
       "      <td>A/5 21171</td>\n",
       "      <td>7.2500</td>\n",
       "      <td>NaN</td>\n",
       "      <td>S</td>\n",
       "    </tr>\n",
       "    <tr>\n",
       "      <th>1</th>\n",
       "      <td>2</td>\n",
       "      <td>1</td>\n",
       "      <td>1</td>\n",
       "      <td>Cumings, Mrs. John Bradley (Florence Briggs Th...</td>\n",
       "      <td>female</td>\n",
       "      <td>38.0</td>\n",
       "      <td>1</td>\n",
       "      <td>0</td>\n",
       "      <td>PC 17599</td>\n",
       "      <td>71.2833</td>\n",
       "      <td>C85</td>\n",
       "      <td>C</td>\n",
       "    </tr>\n",
       "    <tr>\n",
       "      <th>2</th>\n",
       "      <td>3</td>\n",
       "      <td>1</td>\n",
       "      <td>3</td>\n",
       "      <td>Heikkinen, Miss. Laina</td>\n",
       "      <td>female</td>\n",
       "      <td>26.0</td>\n",
       "      <td>0</td>\n",
       "      <td>0</td>\n",
       "      <td>STON/O2. 3101282</td>\n",
       "      <td>7.9250</td>\n",
       "      <td>NaN</td>\n",
       "      <td>S</td>\n",
       "    </tr>\n",
       "    <tr>\n",
       "      <th>3</th>\n",
       "      <td>4</td>\n",
       "      <td>1</td>\n",
       "      <td>1</td>\n",
       "      <td>Futrelle, Mrs. Jacques Heath (Lily May Peel)</td>\n",
       "      <td>female</td>\n",
       "      <td>35.0</td>\n",
       "      <td>1</td>\n",
       "      <td>0</td>\n",
       "      <td>113803</td>\n",
       "      <td>53.1000</td>\n",
       "      <td>C123</td>\n",
       "      <td>S</td>\n",
       "    </tr>\n",
       "    <tr>\n",
       "      <th>4</th>\n",
       "      <td>5</td>\n",
       "      <td>0</td>\n",
       "      <td>3</td>\n",
       "      <td>Allen, Mr. William Henry</td>\n",
       "      <td>male</td>\n",
       "      <td>35.0</td>\n",
       "      <td>0</td>\n",
       "      <td>0</td>\n",
       "      <td>373450</td>\n",
       "      <td>8.0500</td>\n",
       "      <td>NaN</td>\n",
       "      <td>S</td>\n",
       "    </tr>\n",
       "  </tbody>\n",
       "</table>\n",
       "</div>"
      ],
      "text/plain": [
       "   PassengerId  Survived  Pclass  \\\n",
       "0            1         0       3   \n",
       "1            2         1       1   \n",
       "2            3         1       3   \n",
       "3            4         1       1   \n",
       "4            5         0       3   \n",
       "\n",
       "                                                Name     Sex   Age  SibSp  \\\n",
       "0                            Braund, Mr. Owen Harris    male  22.0      1   \n",
       "1  Cumings, Mrs. John Bradley (Florence Briggs Th...  female  38.0      1   \n",
       "2                             Heikkinen, Miss. Laina  female  26.0      0   \n",
       "3       Futrelle, Mrs. Jacques Heath (Lily May Peel)  female  35.0      1   \n",
       "4                           Allen, Mr. William Henry    male  35.0      0   \n",
       "\n",
       "   Parch            Ticket     Fare Cabin Embarked  \n",
       "0      0         A/5 21171   7.2500   NaN        S  \n",
       "1      0          PC 17599  71.2833   C85        C  \n",
       "2      0  STON/O2. 3101282   7.9250   NaN        S  \n",
       "3      0            113803  53.1000  C123        S  \n",
       "4      0            373450   8.0500   NaN        S  "
      ]
     },
     "execution_count": 2,
     "metadata": {},
     "output_type": "execute_result"
    }
   ],
   "source": [
    "train_data = pd.read_csv(\"/kaggle/input/titanic/train.csv\")\n",
    "train_data.columns\n",
    "train_data.head()"
   ]
  },
  {
   "cell_type": "code",
   "execution_count": 3,
   "id": "8b714c35",
   "metadata": {
    "execution": {
     "iopub.execute_input": "2021-08-05T06:22:40.660613Z",
     "iopub.status.busy": "2021-08-05T06:22:40.659940Z",
     "iopub.status.idle": "2021-08-05T06:22:40.663527Z",
     "shell.execute_reply": "2021-08-05T06:22:40.663969Z",
     "shell.execute_reply.started": "2021-08-05T06:09:12.345269Z"
    },
    "papermill": {
     "duration": 0.037083,
     "end_time": "2021-08-05T06:22:40.664143",
     "exception": false,
     "start_time": "2021-08-05T06:22:40.627060",
     "status": "completed"
    },
    "tags": []
   },
   "outputs": [
    {
     "data": {
      "text/plain": [
       "PassengerId      0\n",
       "Survived         0\n",
       "Pclass           0\n",
       "Name             0\n",
       "Sex              0\n",
       "Age            177\n",
       "SibSp            0\n",
       "Parch            0\n",
       "Ticket           0\n",
       "Fare             0\n",
       "Cabin          687\n",
       "Embarked         2\n",
       "dtype: int64"
      ]
     },
     "execution_count": 3,
     "metadata": {},
     "output_type": "execute_result"
    }
   ],
   "source": [
    "train_data.isnull().sum()"
   ]
  },
  {
   "cell_type": "code",
   "execution_count": 4,
   "id": "23b4b3e5",
   "metadata": {
    "execution": {
     "iopub.execute_input": "2021-08-05T06:22:40.721933Z",
     "iopub.status.busy": "2021-08-05T06:22:40.720985Z",
     "iopub.status.idle": "2021-08-05T06:22:40.724779Z",
     "shell.execute_reply": "2021-08-05T06:22:40.725243Z",
     "shell.execute_reply.started": "2021-08-05T06:09:13.228352Z"
    },
    "papermill": {
     "duration": 0.035733,
     "end_time": "2021-08-05T06:22:40.725410",
     "exception": false,
     "start_time": "2021-08-05T06:22:40.689677",
     "status": "completed"
    },
    "tags": []
   },
   "outputs": [
    {
     "data": {
      "text/plain": [
       "PassengerId      int64\n",
       "Survived         int64\n",
       "Pclass           int64\n",
       "Name            object\n",
       "Sex             object\n",
       "Age            float64\n",
       "SibSp            int64\n",
       "Parch            int64\n",
       "Ticket          object\n",
       "Fare           float64\n",
       "Cabin           object\n",
       "Embarked        object\n",
       "dtype: object"
      ]
     },
     "execution_count": 4,
     "metadata": {},
     "output_type": "execute_result"
    }
   ],
   "source": [
    "train_data.dtypes"
   ]
  },
  {
   "cell_type": "code",
   "execution_count": 5,
   "id": "a81a8bbb",
   "metadata": {
    "execution": {
     "iopub.execute_input": "2021-08-05T06:22:40.787017Z",
     "iopub.status.busy": "2021-08-05T06:22:40.786106Z",
     "iopub.status.idle": "2021-08-05T06:22:40.821572Z",
     "shell.execute_reply": "2021-08-05T06:22:40.820993Z",
     "shell.execute_reply.started": "2021-08-05T06:09:14.111222Z"
    },
    "papermill": {
     "duration": 0.067231,
     "end_time": "2021-08-05T06:22:40.821716",
     "exception": false,
     "start_time": "2021-08-05T06:22:40.754485",
     "status": "completed"
    },
    "tags": []
   },
   "outputs": [
    {
     "data": {
      "text/html": [
       "<div>\n",
       "<style scoped>\n",
       "    .dataframe tbody tr th:only-of-type {\n",
       "        vertical-align: middle;\n",
       "    }\n",
       "\n",
       "    .dataframe tbody tr th {\n",
       "        vertical-align: top;\n",
       "    }\n",
       "\n",
       "    .dataframe thead th {\n",
       "        text-align: right;\n",
       "    }\n",
       "</style>\n",
       "<table border=\"1\" class=\"dataframe\">\n",
       "  <thead>\n",
       "    <tr style=\"text-align: right;\">\n",
       "      <th></th>\n",
       "      <th>PassengerId</th>\n",
       "      <th>Pclass</th>\n",
       "      <th>Name</th>\n",
       "      <th>Sex</th>\n",
       "      <th>Age</th>\n",
       "      <th>SibSp</th>\n",
       "      <th>Parch</th>\n",
       "      <th>Ticket</th>\n",
       "      <th>Fare</th>\n",
       "      <th>Cabin</th>\n",
       "      <th>Embarked</th>\n",
       "    </tr>\n",
       "  </thead>\n",
       "  <tbody>\n",
       "    <tr>\n",
       "      <th>413</th>\n",
       "      <td>1305</td>\n",
       "      <td>3</td>\n",
       "      <td>Spector, Mr. Woolf</td>\n",
       "      <td>male</td>\n",
       "      <td>NaN</td>\n",
       "      <td>0</td>\n",
       "      <td>0</td>\n",
       "      <td>A.5. 3236</td>\n",
       "      <td>8.0500</td>\n",
       "      <td>NaN</td>\n",
       "      <td>S</td>\n",
       "    </tr>\n",
       "    <tr>\n",
       "      <th>414</th>\n",
       "      <td>1306</td>\n",
       "      <td>1</td>\n",
       "      <td>Oliva y Ocana, Dona. Fermina</td>\n",
       "      <td>female</td>\n",
       "      <td>39.0</td>\n",
       "      <td>0</td>\n",
       "      <td>0</td>\n",
       "      <td>PC 17758</td>\n",
       "      <td>108.9000</td>\n",
       "      <td>C105</td>\n",
       "      <td>C</td>\n",
       "    </tr>\n",
       "    <tr>\n",
       "      <th>415</th>\n",
       "      <td>1307</td>\n",
       "      <td>3</td>\n",
       "      <td>Saether, Mr. Simon Sivertsen</td>\n",
       "      <td>male</td>\n",
       "      <td>38.5</td>\n",
       "      <td>0</td>\n",
       "      <td>0</td>\n",
       "      <td>SOTON/O.Q. 3101262</td>\n",
       "      <td>7.2500</td>\n",
       "      <td>NaN</td>\n",
       "      <td>S</td>\n",
       "    </tr>\n",
       "    <tr>\n",
       "      <th>416</th>\n",
       "      <td>1308</td>\n",
       "      <td>3</td>\n",
       "      <td>Ware, Mr. Frederick</td>\n",
       "      <td>male</td>\n",
       "      <td>NaN</td>\n",
       "      <td>0</td>\n",
       "      <td>0</td>\n",
       "      <td>359309</td>\n",
       "      <td>8.0500</td>\n",
       "      <td>NaN</td>\n",
       "      <td>S</td>\n",
       "    </tr>\n",
       "    <tr>\n",
       "      <th>417</th>\n",
       "      <td>1309</td>\n",
       "      <td>3</td>\n",
       "      <td>Peter, Master. Michael J</td>\n",
       "      <td>male</td>\n",
       "      <td>NaN</td>\n",
       "      <td>1</td>\n",
       "      <td>1</td>\n",
       "      <td>2668</td>\n",
       "      <td>22.3583</td>\n",
       "      <td>NaN</td>\n",
       "      <td>C</td>\n",
       "    </tr>\n",
       "  </tbody>\n",
       "</table>\n",
       "</div>"
      ],
      "text/plain": [
       "     PassengerId  Pclass                          Name     Sex   Age  SibSp  \\\n",
       "413         1305       3            Spector, Mr. Woolf    male   NaN      0   \n",
       "414         1306       1  Oliva y Ocana, Dona. Fermina  female  39.0      0   \n",
       "415         1307       3  Saether, Mr. Simon Sivertsen    male  38.5      0   \n",
       "416         1308       3           Ware, Mr. Frederick    male   NaN      0   \n",
       "417         1309       3      Peter, Master. Michael J    male   NaN      1   \n",
       "\n",
       "     Parch              Ticket      Fare Cabin Embarked  \n",
       "413      0           A.5. 3236    8.0500   NaN        S  \n",
       "414      0            PC 17758  108.9000  C105        C  \n",
       "415      0  SOTON/O.Q. 3101262    7.2500   NaN        S  \n",
       "416      0              359309    8.0500   NaN        S  \n",
       "417      1                2668   22.3583   NaN        C  "
      ]
     },
     "execution_count": 5,
     "metadata": {},
     "output_type": "execute_result"
    }
   ],
   "source": [
    "test_data = pd.read_csv(\"/kaggle/input/titanic/test.csv\")\n",
    "test_data.tail()"
   ]
  },
  {
   "cell_type": "code",
   "execution_count": 6,
   "id": "78ea7345",
   "metadata": {
    "execution": {
     "iopub.execute_input": "2021-08-05T06:22:40.883547Z",
     "iopub.status.busy": "2021-08-05T06:22:40.882527Z",
     "iopub.status.idle": "2021-08-05T06:22:40.893496Z",
     "shell.execute_reply": "2021-08-05T06:22:40.893992Z",
     "shell.execute_reply.started": "2021-08-05T06:09:14.971987Z"
    },
    "papermill": {
     "duration": 0.042034,
     "end_time": "2021-08-05T06:22:40.894161",
     "exception": false,
     "start_time": "2021-08-05T06:22:40.852127",
     "status": "completed"
    },
    "tags": []
   },
   "outputs": [
    {
     "name": "stdout",
     "output_type": "stream",
     "text": [
      "% of women who survived: 0.7420382165605095\n"
     ]
    }
   ],
   "source": [
    "women = train_data.loc[train_data.Sex == 'female'][\"Survived\"]\n",
    "rate_women = sum(women)/len(women)\n",
    "\n",
    "print(\"% of women who survived:\", rate_women)"
   ]
  },
  {
   "cell_type": "code",
   "execution_count": 7,
   "id": "6783ac09",
   "metadata": {
    "_kg_hide-input": false,
    "execution": {
     "iopub.execute_input": "2021-08-05T06:22:40.955386Z",
     "iopub.status.busy": "2021-08-05T06:22:40.953598Z",
     "iopub.status.idle": "2021-08-05T06:22:40.958592Z",
     "shell.execute_reply": "2021-08-05T06:22:40.959075Z",
     "shell.execute_reply.started": "2021-08-05T06:09:15.787167Z"
    },
    "papermill": {
     "duration": 0.038646,
     "end_time": "2021-08-05T06:22:40.959257",
     "exception": false,
     "start_time": "2021-08-05T06:22:40.920611",
     "status": "completed"
    },
    "tags": []
   },
   "outputs": [
    {
     "name": "stdout",
     "output_type": "stream",
     "text": [
      "% of men who survived: 0.18890814558058924\n"
     ]
    }
   ],
   "source": [
    "#Then, run the code below in another code cell:\n",
    "\n",
    "men = train_data.loc[train_data.Sex == 'male'][\"Survived\"]\n",
    "rate_men = sum(men)/len(men)\n",
    "\n",
    "print(\"% of men who survived:\", rate_men)"
   ]
  },
  {
   "cell_type": "code",
   "execution_count": 8,
   "id": "dcadff40",
   "metadata": {
    "execution": {
     "iopub.execute_input": "2021-08-05T06:22:41.015688Z",
     "iopub.status.busy": "2021-08-05T06:22:41.014705Z",
     "iopub.status.idle": "2021-08-05T06:22:41.028662Z",
     "shell.execute_reply": "2021-08-05T06:22:41.029159Z",
     "shell.execute_reply.started": "2021-08-05T06:09:17.331950Z"
    },
    "papermill": {
     "duration": 0.043547,
     "end_time": "2021-08-05T06:22:41.029346",
     "exception": false,
     "start_time": "2021-08-05T06:22:40.985799",
     "status": "completed"
    },
    "tags": []
   },
   "outputs": [
    {
     "data": {
      "text/plain": [
       "[('Sex', 2), ('Embarked', 3)]"
      ]
     },
     "execution_count": 8,
     "metadata": {},
     "output_type": "execute_result"
    }
   ],
   "source": [
    "# All categorical columns\n",
    "object_cols = [col for col in train_data.columns if train_data[col].dtype == \"object\" and train_data[col].nunique() < 10]\n",
    "\n",
    "# Get number of unique entries in each column with categorical data\n",
    "object_nunique = list(map(lambda col: train_data[col].nunique(), object_cols))\n",
    "d = dict(zip(object_cols, object_nunique))\n",
    "\n",
    "# Print number of unique entries by column, in ascending order\n",
    "sorted(d.items(), key=lambda x: x[1])"
   ]
  },
  {
   "cell_type": "code",
   "execution_count": 9,
   "id": "def5845b",
   "metadata": {
    "execution": {
     "iopub.execute_input": "2021-08-05T06:22:41.085515Z",
     "iopub.status.busy": "2021-08-05T06:22:41.084533Z",
     "iopub.status.idle": "2021-08-05T06:22:41.093012Z",
     "shell.execute_reply": "2021-08-05T06:22:41.092329Z",
     "shell.execute_reply.started": "2021-08-05T06:09:18.396830Z"
    },
    "papermill": {
     "duration": 0.037565,
     "end_time": "2021-08-05T06:22:41.093157",
     "exception": false,
     "start_time": "2021-08-05T06:22:41.055592",
     "status": "completed"
    },
    "tags": []
   },
   "outputs": [],
   "source": [
    "# Added Age to feature used for making prediction\n",
    "features = [\"Pclass\",\"Age\", \"Sex\", \"SibSp\", \"Parch\",'Fare','Embarked']\n",
    "X_full = train_data[features]\n",
    "y = train_data[\"Survived\"]\n",
    "X_test_full = test_data[features]"
   ]
  },
  {
   "cell_type": "code",
   "execution_count": 10,
   "id": "7a819251",
   "metadata": {
    "_kg_hide-input": true,
    "execution": {
     "iopub.execute_input": "2021-08-05T06:22:41.160429Z",
     "iopub.status.busy": "2021-08-05T06:22:41.159664Z",
     "iopub.status.idle": "2021-08-05T06:22:41.163982Z",
     "shell.execute_reply": "2021-08-05T06:22:41.163350Z",
     "shell.execute_reply.started": "2021-08-05T06:09:19.462389Z"
    },
    "papermill": {
     "duration": 0.044045,
     "end_time": "2021-08-05T06:22:41.164122",
     "exception": false,
     "start_time": "2021-08-05T06:22:41.120077",
     "status": "completed"
    },
    "tags": []
   },
   "outputs": [
    {
     "data": {
      "text/html": [
       "<div>\n",
       "<style scoped>\n",
       "    .dataframe tbody tr th:only-of-type {\n",
       "        vertical-align: middle;\n",
       "    }\n",
       "\n",
       "    .dataframe tbody tr th {\n",
       "        vertical-align: top;\n",
       "    }\n",
       "\n",
       "    .dataframe thead th {\n",
       "        text-align: right;\n",
       "    }\n",
       "</style>\n",
       "<table border=\"1\" class=\"dataframe\">\n",
       "  <thead>\n",
       "    <tr style=\"text-align: right;\">\n",
       "      <th></th>\n",
       "      <th>Pclass</th>\n",
       "      <th>Age</th>\n",
       "      <th>Sex</th>\n",
       "      <th>SibSp</th>\n",
       "      <th>Parch</th>\n",
       "      <th>Fare</th>\n",
       "      <th>Embarked</th>\n",
       "    </tr>\n",
       "  </thead>\n",
       "  <tbody>\n",
       "    <tr>\n",
       "      <th>0</th>\n",
       "      <td>3</td>\n",
       "      <td>34.5</td>\n",
       "      <td>male</td>\n",
       "      <td>0</td>\n",
       "      <td>0</td>\n",
       "      <td>7.8292</td>\n",
       "      <td>Q</td>\n",
       "    </tr>\n",
       "    <tr>\n",
       "      <th>1</th>\n",
       "      <td>3</td>\n",
       "      <td>47.0</td>\n",
       "      <td>female</td>\n",
       "      <td>1</td>\n",
       "      <td>0</td>\n",
       "      <td>7.0000</td>\n",
       "      <td>S</td>\n",
       "    </tr>\n",
       "    <tr>\n",
       "      <th>2</th>\n",
       "      <td>2</td>\n",
       "      <td>62.0</td>\n",
       "      <td>male</td>\n",
       "      <td>0</td>\n",
       "      <td>0</td>\n",
       "      <td>9.6875</td>\n",
       "      <td>Q</td>\n",
       "    </tr>\n",
       "    <tr>\n",
       "      <th>3</th>\n",
       "      <td>3</td>\n",
       "      <td>27.0</td>\n",
       "      <td>male</td>\n",
       "      <td>0</td>\n",
       "      <td>0</td>\n",
       "      <td>8.6625</td>\n",
       "      <td>S</td>\n",
       "    </tr>\n",
       "    <tr>\n",
       "      <th>4</th>\n",
       "      <td>3</td>\n",
       "      <td>22.0</td>\n",
       "      <td>female</td>\n",
       "      <td>1</td>\n",
       "      <td>1</td>\n",
       "      <td>12.2875</td>\n",
       "      <td>S</td>\n",
       "    </tr>\n",
       "  </tbody>\n",
       "</table>\n",
       "</div>"
      ],
      "text/plain": [
       "   Pclass   Age     Sex  SibSp  Parch     Fare Embarked\n",
       "0       3  34.5    male      0      0   7.8292        Q\n",
       "1       3  47.0  female      1      0   7.0000        S\n",
       "2       2  62.0    male      0      0   9.6875        Q\n",
       "3       3  27.0    male      0      0   8.6625        S\n",
       "4       3  22.0  female      1      1  12.2875        S"
      ]
     },
     "execution_count": 10,
     "metadata": {},
     "output_type": "execute_result"
    }
   ],
   "source": [
    "X_test_full.head()"
   ]
  },
  {
   "cell_type": "code",
   "execution_count": 11,
   "id": "08edbe60",
   "metadata": {
    "_kg_hide-input": true,
    "execution": {
     "iopub.execute_input": "2021-08-05T06:22:41.233250Z",
     "iopub.status.busy": "2021-08-05T06:22:41.232320Z",
     "iopub.status.idle": "2021-08-05T06:22:41.236752Z",
     "shell.execute_reply": "2021-08-05T06:22:41.236239Z",
     "shell.execute_reply.started": "2021-08-05T06:09:20.346637Z"
    },
    "papermill": {
     "duration": 0.044935,
     "end_time": "2021-08-05T06:22:41.236932",
     "exception": false,
     "start_time": "2021-08-05T06:22:41.191997",
     "status": "completed"
    },
    "tags": []
   },
   "outputs": [
    {
     "data": {
      "text/html": [
       "<div>\n",
       "<style scoped>\n",
       "    .dataframe tbody tr th:only-of-type {\n",
       "        vertical-align: middle;\n",
       "    }\n",
       "\n",
       "    .dataframe tbody tr th {\n",
       "        vertical-align: top;\n",
       "    }\n",
       "\n",
       "    .dataframe thead th {\n",
       "        text-align: right;\n",
       "    }\n",
       "</style>\n",
       "<table border=\"1\" class=\"dataframe\">\n",
       "  <thead>\n",
       "    <tr style=\"text-align: right;\">\n",
       "      <th></th>\n",
       "      <th>Pclass</th>\n",
       "      <th>Age</th>\n",
       "      <th>Sex</th>\n",
       "      <th>SibSp</th>\n",
       "      <th>Parch</th>\n",
       "      <th>Fare</th>\n",
       "      <th>Embarked</th>\n",
       "    </tr>\n",
       "  </thead>\n",
       "  <tbody>\n",
       "    <tr>\n",
       "      <th>0</th>\n",
       "      <td>3</td>\n",
       "      <td>22.0</td>\n",
       "      <td>male</td>\n",
       "      <td>1</td>\n",
       "      <td>0</td>\n",
       "      <td>7.2500</td>\n",
       "      <td>S</td>\n",
       "    </tr>\n",
       "    <tr>\n",
       "      <th>1</th>\n",
       "      <td>1</td>\n",
       "      <td>38.0</td>\n",
       "      <td>female</td>\n",
       "      <td>1</td>\n",
       "      <td>0</td>\n",
       "      <td>71.2833</td>\n",
       "      <td>C</td>\n",
       "    </tr>\n",
       "    <tr>\n",
       "      <th>2</th>\n",
       "      <td>3</td>\n",
       "      <td>26.0</td>\n",
       "      <td>female</td>\n",
       "      <td>0</td>\n",
       "      <td>0</td>\n",
       "      <td>7.9250</td>\n",
       "      <td>S</td>\n",
       "    </tr>\n",
       "    <tr>\n",
       "      <th>3</th>\n",
       "      <td>1</td>\n",
       "      <td>35.0</td>\n",
       "      <td>female</td>\n",
       "      <td>1</td>\n",
       "      <td>0</td>\n",
       "      <td>53.1000</td>\n",
       "      <td>S</td>\n",
       "    </tr>\n",
       "    <tr>\n",
       "      <th>4</th>\n",
       "      <td>3</td>\n",
       "      <td>35.0</td>\n",
       "      <td>male</td>\n",
       "      <td>0</td>\n",
       "      <td>0</td>\n",
       "      <td>8.0500</td>\n",
       "      <td>S</td>\n",
       "    </tr>\n",
       "  </tbody>\n",
       "</table>\n",
       "</div>"
      ],
      "text/plain": [
       "   Pclass   Age     Sex  SibSp  Parch     Fare Embarked\n",
       "0       3  22.0    male      1      0   7.2500        S\n",
       "1       1  38.0  female      1      0  71.2833        C\n",
       "2       3  26.0  female      0      0   7.9250        S\n",
       "3       1  35.0  female      1      0  53.1000        S\n",
       "4       3  35.0    male      0      0   8.0500        S"
      ]
     },
     "execution_count": 11,
     "metadata": {},
     "output_type": "execute_result"
    }
   ],
   "source": [
    "X_full.head()"
   ]
  },
  {
   "cell_type": "code",
   "execution_count": 12,
   "id": "3492aeb8",
   "metadata": {
    "execution": {
     "iopub.execute_input": "2021-08-05T06:22:41.298884Z",
     "iopub.status.busy": "2021-08-05T06:22:41.297980Z",
     "iopub.status.idle": "2021-08-05T06:22:42.324354Z",
     "shell.execute_reply": "2021-08-05T06:22:42.323685Z",
     "shell.execute_reply.started": "2021-08-05T06:09:21.110896Z"
    },
    "papermill": {
     "duration": 1.059635,
     "end_time": "2021-08-05T06:22:42.324509",
     "exception": false,
     "start_time": "2021-08-05T06:22:41.264874",
     "status": "completed"
    },
    "tags": []
   },
   "outputs": [],
   "source": [
    "from sklearn.model_selection import train_test_split\n",
    "# Break off validation set from training data\n",
    "X_train_full, X_valid_full, y_train, y_valid = train_test_split(X_full, y, \n",
    "                                                                train_size=0.8, test_size=0.2,\n",
    "                                                                random_state=0)"
   ]
  },
  {
   "cell_type": "code",
   "execution_count": 13,
   "id": "89e63adb",
   "metadata": {
    "execution": {
     "iopub.execute_input": "2021-08-05T06:22:42.387920Z",
     "iopub.status.busy": "2021-08-05T06:22:42.385549Z",
     "iopub.status.idle": "2021-08-05T06:22:42.393725Z",
     "shell.execute_reply": "2021-08-05T06:22:42.393110Z",
     "shell.execute_reply.started": "2021-08-05T06:09:24.907735Z"
    },
    "papermill": {
     "duration": 0.04128,
     "end_time": "2021-08-05T06:22:42.393868",
     "exception": false,
     "start_time": "2021-08-05T06:22:42.352588",
     "status": "completed"
    },
    "tags": []
   },
   "outputs": [],
   "source": [
    "\n",
    "# \"Cardinality\" means the number of unique values in a column\n",
    "# Select categorical columns with relatively low cardinality (convenient but arbitrary)\n",
    "categorical_cols = [cname for cname in X_train_full.columns if\n",
    "                    X_train_full[cname].nunique() < 10 and \n",
    "                    X_train_full[cname].dtype == \"object\"]\n",
    "\n",
    "# Select numerical columns\n",
    "numerical_cols = [cname for cname in X_train_full.columns if \n",
    "                X_train_full[cname].dtype in ['int64', 'float64']]"
   ]
  },
  {
   "cell_type": "code",
   "execution_count": 14,
   "id": "5fa21f4d",
   "metadata": {
    "execution": {
     "iopub.execute_input": "2021-08-05T06:22:42.462830Z",
     "iopub.status.busy": "2021-08-05T06:22:42.462092Z",
     "iopub.status.idle": "2021-08-05T06:22:42.464812Z",
     "shell.execute_reply": "2021-08-05T06:22:42.465463Z",
     "shell.execute_reply.started": "2021-08-05T06:09:26.666791Z"
    },
    "papermill": {
     "duration": 0.04156,
     "end_time": "2021-08-05T06:22:42.465632",
     "exception": false,
     "start_time": "2021-08-05T06:22:42.424072",
     "status": "completed"
    },
    "tags": []
   },
   "outputs": [],
   "source": [
    "# Keep selected columns only\n",
    "my_cols = categorical_cols + numerical_cols\n",
    "X_train = X_train_full[my_cols].copy()\n",
    "X_valid = X_valid_full[my_cols].copy()\n",
    "X_test = X_test_full[my_cols].copy()"
   ]
  },
  {
   "cell_type": "code",
   "execution_count": 15,
   "id": "6f019b1c",
   "metadata": {
    "_kg_hide-input": true,
    "execution": {
     "iopub.execute_input": "2021-08-05T06:22:42.524490Z",
     "iopub.status.busy": "2021-08-05T06:22:42.523875Z",
     "iopub.status.idle": "2021-08-05T06:22:42.530160Z",
     "shell.execute_reply": "2021-08-05T06:22:42.529522Z",
     "shell.execute_reply.started": "2021-08-05T06:09:27.777477Z"
    },
    "papermill": {
     "duration": 0.036282,
     "end_time": "2021-08-05T06:22:42.530316",
     "exception": false,
     "start_time": "2021-08-05T06:22:42.494034",
     "status": "completed"
    },
    "tags": []
   },
   "outputs": [
    {
     "data": {
      "text/plain": [
       "['Sex', 'Embarked']"
      ]
     },
     "execution_count": 15,
     "metadata": {},
     "output_type": "execute_result"
    }
   ],
   "source": [
    "categorical_cols"
   ]
  },
  {
   "cell_type": "code",
   "execution_count": 16,
   "id": "c5c1ce01",
   "metadata": {
    "_kg_hide-input": true,
    "execution": {
     "iopub.execute_input": "2021-08-05T06:22:42.588497Z",
     "iopub.status.busy": "2021-08-05T06:22:42.587859Z",
     "iopub.status.idle": "2021-08-05T06:22:42.594158Z",
     "shell.execute_reply": "2021-08-05T06:22:42.593558Z",
     "shell.execute_reply.started": "2021-08-05T06:09:28.575030Z"
    },
    "papermill": {
     "duration": 0.036289,
     "end_time": "2021-08-05T06:22:42.594315",
     "exception": false,
     "start_time": "2021-08-05T06:22:42.558026",
     "status": "completed"
    },
    "tags": []
   },
   "outputs": [
    {
     "data": {
      "text/plain": [
       "['Pclass', 'Age', 'SibSp', 'Parch', 'Fare']"
      ]
     },
     "execution_count": 16,
     "metadata": {},
     "output_type": "execute_result"
    }
   ],
   "source": [
    "numerical_cols"
   ]
  },
  {
   "cell_type": "code",
   "execution_count": 17,
   "id": "cdbc6697",
   "metadata": {
    "_kg_hide-input": true,
    "execution": {
     "iopub.execute_input": "2021-08-05T06:22:42.653748Z",
     "iopub.status.busy": "2021-08-05T06:22:42.652807Z",
     "iopub.status.idle": "2021-08-05T06:22:42.666135Z",
     "shell.execute_reply": "2021-08-05T06:22:42.666609Z",
     "shell.execute_reply.started": "2021-08-05T06:09:29.523853Z"
    },
    "papermill": {
     "duration": 0.044645,
     "end_time": "2021-08-05T06:22:42.666793",
     "exception": false,
     "start_time": "2021-08-05T06:22:42.622148",
     "status": "completed"
    },
    "tags": []
   },
   "outputs": [
    {
     "data": {
      "text/html": [
       "<div>\n",
       "<style scoped>\n",
       "    .dataframe tbody tr th:only-of-type {\n",
       "        vertical-align: middle;\n",
       "    }\n",
       "\n",
       "    .dataframe tbody tr th {\n",
       "        vertical-align: top;\n",
       "    }\n",
       "\n",
       "    .dataframe thead th {\n",
       "        text-align: right;\n",
       "    }\n",
       "</style>\n",
       "<table border=\"1\" class=\"dataframe\">\n",
       "  <thead>\n",
       "    <tr style=\"text-align: right;\">\n",
       "      <th></th>\n",
       "      <th>Sex</th>\n",
       "      <th>Embarked</th>\n",
       "      <th>Pclass</th>\n",
       "      <th>Age</th>\n",
       "      <th>SibSp</th>\n",
       "      <th>Parch</th>\n",
       "      <th>Fare</th>\n",
       "    </tr>\n",
       "  </thead>\n",
       "  <tbody>\n",
       "    <tr>\n",
       "      <th>495</th>\n",
       "      <td>male</td>\n",
       "      <td>C</td>\n",
       "      <td>3</td>\n",
       "      <td>NaN</td>\n",
       "      <td>0</td>\n",
       "      <td>0</td>\n",
       "      <td>14.4583</td>\n",
       "    </tr>\n",
       "    <tr>\n",
       "      <th>648</th>\n",
       "      <td>male</td>\n",
       "      <td>S</td>\n",
       "      <td>3</td>\n",
       "      <td>NaN</td>\n",
       "      <td>0</td>\n",
       "      <td>0</td>\n",
       "      <td>7.5500</td>\n",
       "    </tr>\n",
       "    <tr>\n",
       "      <th>278</th>\n",
       "      <td>male</td>\n",
       "      <td>Q</td>\n",
       "      <td>3</td>\n",
       "      <td>7.0</td>\n",
       "      <td>4</td>\n",
       "      <td>1</td>\n",
       "      <td>29.1250</td>\n",
       "    </tr>\n",
       "    <tr>\n",
       "      <th>31</th>\n",
       "      <td>female</td>\n",
       "      <td>C</td>\n",
       "      <td>1</td>\n",
       "      <td>NaN</td>\n",
       "      <td>1</td>\n",
       "      <td>0</td>\n",
       "      <td>146.5208</td>\n",
       "    </tr>\n",
       "    <tr>\n",
       "      <th>255</th>\n",
       "      <td>female</td>\n",
       "      <td>C</td>\n",
       "      <td>3</td>\n",
       "      <td>29.0</td>\n",
       "      <td>0</td>\n",
       "      <td>2</td>\n",
       "      <td>15.2458</td>\n",
       "    </tr>\n",
       "  </tbody>\n",
       "</table>\n",
       "</div>"
      ],
      "text/plain": [
       "        Sex Embarked  Pclass   Age  SibSp  Parch      Fare\n",
       "495    male        C       3   NaN      0      0   14.4583\n",
       "648    male        S       3   NaN      0      0    7.5500\n",
       "278    male        Q       3   7.0      4      1   29.1250\n",
       "31   female        C       1   NaN      1      0  146.5208\n",
       "255  female        C       3  29.0      0      2   15.2458"
      ]
     },
     "execution_count": 17,
     "metadata": {},
     "output_type": "execute_result"
    }
   ],
   "source": [
    "X_valid.head()"
   ]
  },
  {
   "cell_type": "code",
   "execution_count": 18,
   "id": "c1683ffd",
   "metadata": {
    "_kg_hide-input": true,
    "execution": {
     "iopub.execute_input": "2021-08-05T06:22:42.726985Z",
     "iopub.status.busy": "2021-08-05T06:22:42.726037Z",
     "iopub.status.idle": "2021-08-05T06:22:42.740825Z",
     "shell.execute_reply": "2021-08-05T06:22:42.740203Z",
     "shell.execute_reply.started": "2021-08-05T06:09:30.544452Z"
    },
    "papermill": {
     "duration": 0.045928,
     "end_time": "2021-08-05T06:22:42.740993",
     "exception": false,
     "start_time": "2021-08-05T06:22:42.695065",
     "status": "completed"
    },
    "tags": []
   },
   "outputs": [
    {
     "data": {
      "text/html": [
       "<div>\n",
       "<style scoped>\n",
       "    .dataframe tbody tr th:only-of-type {\n",
       "        vertical-align: middle;\n",
       "    }\n",
       "\n",
       "    .dataframe tbody tr th {\n",
       "        vertical-align: top;\n",
       "    }\n",
       "\n",
       "    .dataframe thead th {\n",
       "        text-align: right;\n",
       "    }\n",
       "</style>\n",
       "<table border=\"1\" class=\"dataframe\">\n",
       "  <thead>\n",
       "    <tr style=\"text-align: right;\">\n",
       "      <th></th>\n",
       "      <th>Sex</th>\n",
       "      <th>Embarked</th>\n",
       "      <th>Pclass</th>\n",
       "      <th>Age</th>\n",
       "      <th>SibSp</th>\n",
       "      <th>Parch</th>\n",
       "      <th>Fare</th>\n",
       "    </tr>\n",
       "  </thead>\n",
       "  <tbody>\n",
       "    <tr>\n",
       "      <th>413</th>\n",
       "      <td>male</td>\n",
       "      <td>S</td>\n",
       "      <td>3</td>\n",
       "      <td>NaN</td>\n",
       "      <td>0</td>\n",
       "      <td>0</td>\n",
       "      <td>8.0500</td>\n",
       "    </tr>\n",
       "    <tr>\n",
       "      <th>414</th>\n",
       "      <td>female</td>\n",
       "      <td>C</td>\n",
       "      <td>1</td>\n",
       "      <td>39.0</td>\n",
       "      <td>0</td>\n",
       "      <td>0</td>\n",
       "      <td>108.9000</td>\n",
       "    </tr>\n",
       "    <tr>\n",
       "      <th>415</th>\n",
       "      <td>male</td>\n",
       "      <td>S</td>\n",
       "      <td>3</td>\n",
       "      <td>38.5</td>\n",
       "      <td>0</td>\n",
       "      <td>0</td>\n",
       "      <td>7.2500</td>\n",
       "    </tr>\n",
       "    <tr>\n",
       "      <th>416</th>\n",
       "      <td>male</td>\n",
       "      <td>S</td>\n",
       "      <td>3</td>\n",
       "      <td>NaN</td>\n",
       "      <td>0</td>\n",
       "      <td>0</td>\n",
       "      <td>8.0500</td>\n",
       "    </tr>\n",
       "    <tr>\n",
       "      <th>417</th>\n",
       "      <td>male</td>\n",
       "      <td>C</td>\n",
       "      <td>3</td>\n",
       "      <td>NaN</td>\n",
       "      <td>1</td>\n",
       "      <td>1</td>\n",
       "      <td>22.3583</td>\n",
       "    </tr>\n",
       "  </tbody>\n",
       "</table>\n",
       "</div>"
      ],
      "text/plain": [
       "        Sex Embarked  Pclass   Age  SibSp  Parch      Fare\n",
       "413    male        S       3   NaN      0      0    8.0500\n",
       "414  female        C       1  39.0      0      0  108.9000\n",
       "415    male        S       3  38.5      0      0    7.2500\n",
       "416    male        S       3   NaN      0      0    8.0500\n",
       "417    male        C       3   NaN      1      1   22.3583"
      ]
     },
     "execution_count": 18,
     "metadata": {},
     "output_type": "execute_result"
    }
   ],
   "source": [
    "X_test.tail()"
   ]
  },
  {
   "cell_type": "markdown",
   "id": "50ac25cf",
   "metadata": {
    "papermill": {
     "duration": 0.030852,
     "end_time": "2021-08-05T06:22:42.802893",
     "exception": false,
     "start_time": "2021-08-05T06:22:42.772041",
     "status": "completed"
    },
    "tags": []
   },
   "source": [
    "**Preprocessing and modelling on dataset**"
   ]
  },
  {
   "cell_type": "code",
   "execution_count": 19,
   "id": "e658c4a5",
   "metadata": {
    "execution": {
     "iopub.execute_input": "2021-08-05T06:22:42.873961Z",
     "iopub.status.busy": "2021-08-05T06:22:42.873269Z",
     "iopub.status.idle": "2021-08-05T06:22:43.315787Z",
     "shell.execute_reply": "2021-08-05T06:22:43.316379Z",
     "shell.execute_reply.started": "2021-08-05T06:20:59.323154Z"
    },
    "papermill": {
     "duration": 0.482336,
     "end_time": "2021-08-05T06:22:43.316582",
     "exception": false,
     "start_time": "2021-08-05T06:22:42.834246",
     "status": "completed"
    },
    "tags": []
   },
   "outputs": [
    {
     "name": "stdout",
     "output_type": "stream",
     "text": [
      "[06:22:43] WARNING: ../src/learner.cc:573: \n",
      "Parameters: { \"early_stopping_rounds\", \"eval_set\", \"n_estimator\", \"verbose\" } might not be used.\n",
      "\n",
      "  This may not be accurate due to some parameters are only used in language bindings but\n",
      "  passed down to XGBoost core.  Or some parameters are not used but slip through this\n",
      "  verification. Please open an issue if you find above cases.\n",
      "\n",
      "\n",
      "[06:22:43] WARNING: ../src/learner.cc:1095: Starting in XGBoost 1.3.0, the default evaluation metric used with the objective 'binary:logistic' was changed from 'error' to 'logloss'. Explicitly set eval_metric if you'd like to restore the old behavior.\n",
      "MAE: 0.1452513966480447\n"
     ]
    },
    {
     "name": "stderr",
     "output_type": "stream",
     "text": [
      "/opt/conda/lib/python3.7/site-packages/xgboost/sklearn.py:1146: UserWarning: The use of label encoder in XGBClassifier is deprecated and will be removed in a future release. To remove this warning, do the following: 1) Pass option use_label_encoder=False when constructing XGBClassifier object; and 2) Encode your labels (y) as integers starting with 0, i.e. 0, 1, 2, ..., [num_class - 1].\n",
      "  warnings.warn(label_encoder_deprecation_msg, UserWarning)\n"
     ]
    }
   ],
   "source": [
    "from sklearn.compose import ColumnTransformer\n",
    "from sklearn.pipeline import Pipeline\n",
    "from sklearn.impute import SimpleImputer\n",
    "from sklearn.preprocessing import OneHotEncoder\n",
    "#from sklearn.ensemble import RandomForestClassifier\n",
    "from sklearn.preprocessing import StandardScaler\n",
    "from xgboost import XGBClassifier\n",
    "#from catboost import CatBoostClassifier\n",
    "from sklearn.metrics import mean_absolute_error\n",
    "\n",
    "# Preprocessing for numerical data\n",
    "numerical_transformer = Pipeline(steps =[ ('S-1', SimpleImputer(strategy='median')),\n",
    "                                          ('S-2', StandardScaler()),\n",
    "                                           ])\n",
    "\n",
    "# Preprocessing for categorical data\n",
    "categorical_transformer = Pipeline(steps=[('imputer', SimpleImputer(strategy='most_frequent')),\n",
    "                                          ('onehot', OneHotEncoder(handle_unknown='ignore'))\n",
    "                                         ])\n",
    "\n",
    "# Bundle preprocessing for numerical and categorical data\n",
    "preprocessor = ColumnTransformer(\n",
    "                                transformers=[('num', numerical_transformer, numerical_cols),\n",
    "                                              ('cat', categorical_transformer, categorical_cols)\n",
    "                                             ])\n",
    "\n",
    "# Define model\n",
    "#model = RandomForestClassifier(n_estimators=100,max_depth = 5, random_state = 1)\n",
    "model = XGBClassifier(n_estimator =100,early_stopping_rounds = 5, \n",
    "                eval_set =[(X_valid,y_valid)],learning_rate =0.05,verbose = False)\n",
    "\n",
    "# Bundle preprocessing and modeling code in a pipeline\n",
    "my_pipeline = Pipeline(steps=[('preprocessor', preprocessor),\n",
    "                              ('model', model)\n",
    "                             ])\n",
    "\n",
    "# Preprocessing of training data, fit model \n",
    "my_pipeline.fit(X_train, y_train)\n",
    "\n",
    "# Preprocessing of validation data, get predictions\n",
    "preds = my_pipeline.predict(X_valid)\n",
    "\n",
    "# Evaluate the model\n",
    "score = mean_absolute_error(y_valid, preds)\n",
    "print('MAE:', score)"
   ]
  },
  {
   "cell_type": "code",
   "execution_count": 20,
   "id": "52164623",
   "metadata": {
    "execution": {
     "iopub.execute_input": "2021-08-05T06:22:43.387574Z",
     "iopub.status.busy": "2021-08-05T06:22:43.386799Z",
     "iopub.status.idle": "2021-08-05T06:22:43.397192Z",
     "shell.execute_reply": "2021-08-05T06:22:43.397718Z",
     "shell.execute_reply.started": "2021-08-05T06:10:27.109104Z"
    },
    "papermill": {
     "duration": 0.048316,
     "end_time": "2021-08-05T06:22:43.397925",
     "exception": false,
     "start_time": "2021-08-05T06:22:43.349609",
     "status": "completed"
    },
    "tags": []
   },
   "outputs": [],
   "source": [
    "# Preprocessing of test data, fit model\n",
    "preds_test = my_pipeline.predict(X_test) "
   ]
  },
  {
   "cell_type": "code",
   "execution_count": 21,
   "id": "d5af61e3",
   "metadata": {
    "execution": {
     "iopub.execute_input": "2021-08-05T06:22:43.466869Z",
     "iopub.status.busy": "2021-08-05T06:22:43.466155Z",
     "iopub.status.idle": "2021-08-05T06:22:43.475445Z",
     "shell.execute_reply": "2021-08-05T06:22:43.474838Z",
     "shell.execute_reply.started": "2021-08-05T06:10:33.412209Z"
    },
    "papermill": {
     "duration": 0.045897,
     "end_time": "2021-08-05T06:22:43.475590",
     "exception": false,
     "start_time": "2021-08-05T06:22:43.429693",
     "status": "completed"
    },
    "tags": []
   },
   "outputs": [
    {
     "name": "stdout",
     "output_type": "stream",
     "text": [
      "   PassengerId  True y   prediction\n",
      "1        893.0        1         0.0\n",
      "2        894.0        1         0.0\n",
      "3        895.0        1         0.0\n",
      "4        896.0        0         1.0\n",
      "5        897.0        0         0.0\n",
      "6        898.0        0         0.0\n",
      "7        899.0        0         0.0\n",
      "8        900.0        1         1.0\n",
      "9        901.0        1         0.0\n"
     ]
    }
   ],
   "source": [
    "from pandas import Series\n",
    "check = pd.DataFrame({\"PassengerId\": test_data.PassengerId,\"True y \" : Series(y),\"prediction\":Series(preds_test)})\n",
    "print(check[1:10])"
   ]
  },
  {
   "cell_type": "markdown",
   "id": "d5a627ab",
   "metadata": {
    "papermill": {
     "duration": 0.029963,
     "end_time": "2021-08-05T06:22:43.535645",
     "exception": false,
     "start_time": "2021-08-05T06:22:43.505682",
     "status": "completed"
    },
    "tags": []
   },
   "source": [
    "**Making the Confusion Matrix**\n"
   ]
  },
  {
   "cell_type": "code",
   "execution_count": 22,
   "id": "cab3b58a",
   "metadata": {
    "_kg_hide-output": true,
    "execution": {
     "iopub.execute_input": "2021-08-05T06:22:43.609947Z",
     "iopub.status.busy": "2021-08-05T06:22:43.608943Z",
     "iopub.status.idle": "2021-08-05T06:22:43.629387Z",
     "shell.execute_reply": "2021-08-05T06:22:43.629956Z",
     "shell.execute_reply.started": "2021-08-05T06:10:40.096657Z"
    },
    "papermill": {
     "duration": 0.064024,
     "end_time": "2021-08-05T06:22:43.630228",
     "exception": false,
     "start_time": "2021-08-05T06:22:43.566204",
     "status": "completed"
    },
    "tags": []
   },
   "outputs": [
    {
     "name": "stdout",
     "output_type": "stream",
     "text": [
      "[[420  19]\n",
      " [ 52 221]]\n"
     ]
    },
    {
     "data": {
      "text/plain": [
       "0.9002808988764045"
      ]
     },
     "execution_count": 22,
     "metadata": {},
     "output_type": "execute_result"
    }
   ],
   "source": [
    "from sklearn.metrics import confusion_matrix, accuracy_score\n",
    "y_pred = my_pipeline.predict(X_train)\n",
    "cm = confusion_matrix(y_train, y_pred)\n",
    "print(cm)\n",
    "accuracy_score(y_train, y_pred)"
   ]
  },
  {
   "cell_type": "markdown",
   "id": "bfb3e306",
   "metadata": {
    "papermill": {
     "duration": 0.030977,
     "end_time": "2021-08-05T06:22:43.693760",
     "exception": false,
     "start_time": "2021-08-05T06:22:43.662783",
     "status": "completed"
    },
    "tags": []
   },
   "source": [
    "**Applying k-Fold Cross Validation**"
   ]
  },
  {
   "cell_type": "code",
   "execution_count": 23,
   "id": "412e9c6f",
   "metadata": {
    "execution": {
     "iopub.execute_input": "2021-08-05T06:22:43.762850Z",
     "iopub.status.busy": "2021-08-05T06:22:43.761952Z",
     "iopub.status.idle": "2021-08-05T06:22:43.765304Z",
     "shell.execute_reply": "2021-08-05T06:22:43.764567Z",
     "shell.execute_reply.started": "2021-08-05T06:15:01.956776Z"
    },
    "papermill": {
     "duration": 0.040249,
     "end_time": "2021-08-05T06:22:43.765452",
     "exception": false,
     "start_time": "2021-08-05T06:22:43.725203",
     "status": "completed"
    },
    "tags": []
   },
   "outputs": [],
   "source": [
    "from sklearn.model_selection import cross_val_score\n",
    "def get_score(n_estimators):\n",
    "    base_pipeline = Pipeline(steps=[('preprocessor',preprocessor ), \n",
    "                                    ('model',XGBClassifier(n_estimators=n_estimators))\n",
    "                                   ])\n",
    "    # Multiply by -1 since sklearn calculates *negative* MAE\n",
    "    scores =  cross_val_score(base_pipeline, X_full, y, cv=3,scoring='accuracy')\n",
    "    print(\"n_estimate :' {} Accuracy: {:.2f} %, Standard Deviation: {:.2f} % \".format(n_estimators,scores.mean()*100,scores.std()*100))\n",
    "    pass"
   ]
  },
  {
   "cell_type": "code",
   "execution_count": 24,
   "id": "478a7ed5",
   "metadata": {
    "execution": {
     "iopub.execute_input": "2021-08-05T06:22:43.836022Z",
     "iopub.status.busy": "2021-08-05T06:22:43.834981Z",
     "iopub.status.idle": "2021-08-05T06:22:44.175932Z",
     "shell.execute_reply": "2021-08-05T06:22:44.176893Z",
     "shell.execute_reply.started": "2021-08-05T06:21:56.554779Z"
    },
    "papermill": {
     "duration": 0.379414,
     "end_time": "2021-08-05T06:22:44.177154",
     "exception": false,
     "start_time": "2021-08-05T06:22:43.797740",
     "status": "completed"
    },
    "tags": []
   },
   "outputs": [
    {
     "name": "stderr",
     "output_type": "stream",
     "text": [
      "/opt/conda/lib/python3.7/site-packages/xgboost/sklearn.py:1146: UserWarning: The use of label encoder in XGBClassifier is deprecated and will be removed in a future release. To remove this warning, do the following: 1) Pass option use_label_encoder=False when constructing XGBClassifier object; and 2) Encode your labels (y) as integers starting with 0, i.e. 0, 1, 2, ..., [num_class - 1].\n",
      "  warnings.warn(label_encoder_deprecation_msg, UserWarning)\n",
      "/opt/conda/lib/python3.7/site-packages/xgboost/sklearn.py:1146: UserWarning: The use of label encoder in XGBClassifier is deprecated and will be removed in a future release. To remove this warning, do the following: 1) Pass option use_label_encoder=False when constructing XGBClassifier object; and 2) Encode your labels (y) as integers starting with 0, i.e. 0, 1, 2, ..., [num_class - 1].\n",
      "  warnings.warn(label_encoder_deprecation_msg, UserWarning)\n"
     ]
    },
    {
     "name": "stdout",
     "output_type": "stream",
     "text": [
      "[06:22:43] WARNING: ../src/learner.cc:1095: Starting in XGBoost 1.3.0, the default evaluation metric used with the objective 'binary:logistic' was changed from 'error' to 'logloss'. Explicitly set eval_metric if you'd like to restore the old behavior.\n",
      "[06:22:43] WARNING: ../src/learner.cc:1095: Starting in XGBoost 1.3.0, the default evaluation metric used with the objective 'binary:logistic' was changed from 'error' to 'logloss'. Explicitly set eval_metric if you'd like to restore the old behavior.\n",
      "[06:22:44] WARNING: ../src/learner.cc:1095: Starting in XGBoost 1.3.0, the default evaluation metric used with the objective 'binary:logistic' was changed from 'error' to 'logloss'. Explicitly set eval_metric if you'd like to restore the old behavior.\n",
      "n_estimate :' 100 Accuracy: 80.47 %, Standard Deviation: 2.47 % \n"
     ]
    },
    {
     "name": "stderr",
     "output_type": "stream",
     "text": [
      "/opt/conda/lib/python3.7/site-packages/xgboost/sklearn.py:1146: UserWarning: The use of label encoder in XGBClassifier is deprecated and will be removed in a future release. To remove this warning, do the following: 1) Pass option use_label_encoder=False when constructing XGBClassifier object; and 2) Encode your labels (y) as integers starting with 0, i.e. 0, 1, 2, ..., [num_class - 1].\n",
      "  warnings.warn(label_encoder_deprecation_msg, UserWarning)\n"
     ]
    }
   ],
   "source": [
    "n_estimate = range(100,200,100)\n",
    "results = dict(zip(n_estimate, map(get_score, n_estimate)) )"
   ]
  },
  {
   "cell_type": "markdown",
   "id": "872e3475",
   "metadata": {
    "papermill": {
     "duration": 0.031345,
     "end_time": "2021-08-05T06:22:44.242685",
     "exception": false,
     "start_time": "2021-08-05T06:22:44.211340",
     "status": "completed"
    },
    "tags": []
   },
   "source": [
    "**Making submission**"
   ]
  },
  {
   "cell_type": "code",
   "execution_count": 25,
   "id": "ccb9e4a7",
   "metadata": {
    "execution": {
     "iopub.execute_input": "2021-08-05T06:22:44.313440Z",
     "iopub.status.busy": "2021-08-05T06:22:44.312576Z",
     "iopub.status.idle": "2021-08-05T06:22:44.319700Z",
     "shell.execute_reply": "2021-08-05T06:22:44.320185Z",
     "shell.execute_reply.started": "2021-08-05T06:22:18.898176Z"
    },
    "papermill": {
     "duration": 0.0459,
     "end_time": "2021-08-05T06:22:44.320364",
     "exception": false,
     "start_time": "2021-08-05T06:22:44.274464",
     "status": "completed"
    },
    "tags": []
   },
   "outputs": [
    {
     "name": "stdout",
     "output_type": "stream",
     "text": [
      "Your submission was successfully saved!\n"
     ]
    }
   ],
   "source": [
    "output = pd.DataFrame({'PassengerId': test_data.PassengerId, 'Survived': Series(preds_test)})\n",
    "output.to_csv('my_submission.csv', index=False)\n",
    "print(\"Your submission was successfully saved!\")"
   ]
  },
  {
   "cell_type": "code",
   "execution_count": null,
   "id": "a076a57a",
   "metadata": {
    "papermill": {
     "duration": 0.032322,
     "end_time": "2021-08-05T06:22:44.386283",
     "exception": false,
     "start_time": "2021-08-05T06:22:44.353961",
     "status": "completed"
    },
    "tags": []
   },
   "outputs": [],
   "source": []
  }
 ],
 "metadata": {
  "kernelspec": {
   "display_name": "Python 3",
   "language": "python",
   "name": "python3"
  },
  "language_info": {
   "codemirror_mode": {
    "name": "ipython",
    "version": 3
   },
   "file_extension": ".py",
   "mimetype": "text/x-python",
   "name": "python",
   "nbconvert_exporter": "python",
   "pygments_lexer": "ipython3",
   "version": "3.8.8"
  },
  "papermill": {
   "default_parameters": {},
   "duration": 13.803699,
   "end_time": "2021-08-05T06:22:45.976741",
   "environment_variables": {},
   "exception": null,
   "input_path": "__notebook__.ipynb",
   "output_path": "__notebook__.ipynb",
   "parameters": {},
   "start_time": "2021-08-05T06:22:32.173042",
   "version": "2.3.3"
  }
 },
 "nbformat": 4,
 "nbformat_minor": 5
}
